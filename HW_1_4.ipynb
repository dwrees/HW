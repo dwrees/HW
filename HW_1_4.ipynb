{
  "nbformat": 4,
  "nbformat_minor": 0,
  "metadata": {
    "colab": {
      "name": "HW 1.4",
      "provenance": []
    },
    "kernelspec": {
      "name": "python3",
      "display_name": "Python 3"
    },
    "language_info": {
      "name": "python"
    }
  },
  "cells": [
    {
      "cell_type": "code",
      "metadata": {
        "id": "aKqQI6LkOFfe"
      },
      "source": [
        "import numpy as np\n",
        "import random as rd\n",
        "import pandas as pd\n",
        "import matplotlib.pyplot as plt\n",
        "from mpl_toolkits.mplot3d import Axes3D\n",
        "from sklearn import datasets\n",
        "from sklearn import preprocessing\n",
        "from sklearn import decomposition\n",
        "from sklearn.decomposition import PCA"
      ],
      "execution_count": 25,
      "outputs": []
    },
    {
      "cell_type": "code",
      "metadata": {
        "id": "4SshjpvfOW4A"
      },
      "source": [
        "# Create a random data set to run principal component analysis on\n",
        "\n",
        "sample=['sample'+ str(i) for i in range(1,15)]\n",
        "bf=['bf'+str(i) for i in range (1,5)]\n",
        "af=['af'+str(i) for i in range (1,5)]\n",
        "\n",
        "# Re arrange data into a row/column format\n",
        "data=pd.DataFrame(columns=[*bf,*af], index=sample)"
      ],
      "execution_count": 9,
      "outputs": []
    },
    {
      "cell_type": "code",
      "metadata": {
        "colab": {
          "base_uri": "https://localhost:8080/"
        },
        "id": "h2nz4cokatSf",
        "outputId": "e447d9fb-3a9e-4fea-d89f-9467db930780"
      },
      "source": [
        "# Give the variables random data to work with \n",
        "for sample in data.index:\n",
        "  data.loc[sample,'bf1':'bf4']=np.random.poisson(lam=rd.randrange(10,1000),size=4)\n",
        "  data.loc[sample,'af1':'af4']=np.random.poisson(lam=rd.randrange(10,1000),size=4)\n",
        "\n",
        "print(data.head())"
      ],
      "execution_count": 19,
      "outputs": [
        {
          "output_type": "stream",
          "name": "stdout",
          "text": [
            "         bf1  bf2  bf3  bf4  af1  af2  af3  af4\n",
            "sample1   56   50   42   36  835  856  819  829\n",
            "sample2  934  983  937  935  225  212  246  249\n",
            "sample3  325  335  293  330  117  140  126  150\n",
            "sample4   76   72   66   62  382  391  393  378\n",
            "sample5  748  800  749  818  417  399  398  414\n"
          ]
        }
      ]
    },
    {
      "cell_type": "code",
      "metadata": {
        "id": "3gdAUlxBcU27"
      },
      "source": [
        "# Run principal component analysis on the data:\n",
        "scaled_data=preprocessing.scale(data.T)\n",
        "pca=PCA()\n",
        "pca.fit(scaled_data)\n",
        "pca_data=pca.transform(scaled_data)\n",
        "\n",
        "plt.show()"
      ],
      "execution_count": 28,
      "outputs": []
    }
  ]
}