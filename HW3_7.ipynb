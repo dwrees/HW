{
  "nbformat": 4,
  "nbformat_minor": 0,
  "metadata": {
    "colab": {
      "name": "HW3.7",
      "provenance": []
    },
    "kernelspec": {
      "name": "python3",
      "display_name": "Python 3"
    },
    "language_info": {
      "name": "python"
    }
  },
  "cells": [
    {
      "cell_type": "code",
      "metadata": {
        "id": "eiq9Mqo0SJOv"
      },
      "source": [
        "import numpy as np"
      ],
      "execution_count": 2,
      "outputs": []
    },
    {
      "cell_type": "code",
      "metadata": {
        "colab": {
          "base_uri": "https://localhost:8080/"
        },
        "id": "K-hMwdMCSNAW",
        "outputId": "5277ae39-2936-440f-dd33-f172f6162fcd"
      },
      "source": [
        "input_value=np.array([[0,0],[0,1],[1,1],[1,0]])\n",
        "input_value.shape\n",
        "input_value"
      ],
      "execution_count": 3,
      "outputs": [
        {
          "output_type": "execute_result",
          "data": {
            "text/plain": [
              "array([[0, 0],\n",
              "       [0, 1],\n",
              "       [1, 1],\n",
              "       [1, 0]])"
            ]
          },
          "metadata": {},
          "execution_count": 3
        }
      ]
    },
    {
      "cell_type": "code",
      "metadata": {
        "colab": {
          "base_uri": "https://localhost:8080/"
        },
        "id": "XhqDBfO0S31Z",
        "outputId": "0203095b-3a42-4e1e-89c9-b78f41ae0a1a"
      },
      "source": [
        "output=np.array([0,1,1,0])\n",
        "output=output.reshape(4,1)\n",
        "output.shape"
      ],
      "execution_count": 4,
      "outputs": [
        {
          "output_type": "execute_result",
          "data": {
            "text/plain": [
              "(4, 1)"
            ]
          },
          "metadata": {},
          "execution_count": 4
        }
      ]
    },
    {
      "cell_type": "code",
      "metadata": {
        "id": "7dVoAmCaTMx2"
      },
      "source": [
        "bias=.3"
      ],
      "execution_count": null,
      "outputs": []
    }
  ]
}