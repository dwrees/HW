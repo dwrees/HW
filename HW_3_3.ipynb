{
  "nbformat": 4,
  "nbformat_minor": 0,
  "metadata": {
    "colab": {
      "name": "HW 3.3",
      "provenance": [],
      "collapsed_sections": []
    },
    "kernelspec": {
      "name": "python3",
      "display_name": "Python 3"
    },
    "language_info": {
      "name": "python"
    }
  },
  "cells": [
    {
      "cell_type": "code",
      "metadata": {
        "id": "A1TvvUq_gLjE"
      },
      "source": [
        "import numpy as np\n",
        "from scipy.optimize import minimize\n",
        "\n",
        "def objective_fcn(x):\n",
        "    x1=x[0]\n",
        "    x2=x[1]\n",
        "    return x1**2 + x1*2\n",
        "\n",
        "def equality_constraint(x):\n",
        "    x1=x[0]\n",
        "    x2=x[1]\n",
        "    return x1**3_x1*x2-100\n",
        "\n",
        "def inequality_constraint(x):\n",
        "    x1=x[0]\n",
        "    x2=x[1]\n",
        "    return x1**2+x2-50\n",
        "\n",
        "bounds_x1=(-100,100)\n",
        "bounds_x2=(-100,100)\n",
        "bounds=[bounds_x1,bounds_x2]\n",
        "constraint1={'type':'eq':'fun':equality_constraint}\n",
        "countraint2={'type':'ineq','fun':inequality_constraint}\n",
        "constraint=[constraint1,constraint2]\n",
        "x0=[1,1]\n",
        "\n",
        "result=minimize(objective_fcn, x0, method=\"SLSQP\", bounds=bounds, constraints=constraint)\n",
        "print(result)\n",
        "\n",
        "\n",
        "  "
      ],
      "execution_count": null,
      "outputs": []
    }
  ]
}