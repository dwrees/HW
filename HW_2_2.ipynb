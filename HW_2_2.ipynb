{
  "nbformat": 4,
  "nbformat_minor": 0,
  "metadata": {
    "colab": {
      "name": "HW 2.2",
      "provenance": []
    },
    "kernelspec": {
      "name": "python3",
      "display_name": "Python 3"
    },
    "language_info": {
      "name": "python"
    }
  },
  "cells": [
    {
      "cell_type": "code",
      "metadata": {
        "id": "R7rKIXlv60Rp"
      },
      "source": [
        "from scipy.stats import poisson\n",
        "import numpy as np\n",
        "import pandas as pd\n",
        "import matplotlib.pyplot as plot"
      ],
      "execution_count": 7,
      "outputs": []
    },
    {
      "cell_type": "code",
      "metadata": {
        "id": "1gRBwK3u7BB7"
      },
      "source": [
        "# Poisson Distribution:\n",
        "\n",
        "x_rvs=pd.Series(poisson.rvs(1.2,size=500,random_state=2))"
      ],
      "execution_count": 5,
      "outputs": []
    },
    {
      "cell_type": "code",
      "metadata": {
        "colab": {
          "base_uri": "https://localhost:8080/"
        },
        "id": "-JfKNxNfA8ll",
        "outputId": "0b00be0a-404e-4b1a-d25e-5ca424090968"
      },
      "source": [
        "data=x_rvs.value_counts().sort_index().to_dict()\n",
        "data"
      ],
      "execution_count": 17,
      "outputs": [
        {
          "output_type": "execute_result",
          "data": {
            "text/plain": [
              "{0: 165, 1: 186, 2: 95, 3: 40, 4: 10, 5: 3, 6: 1}"
            ]
          },
          "metadata": {},
          "execution_count": 17
        }
      ]
    },
    {
      "cell_type": "code",
      "metadata": {
        "colab": {
          "base_uri": "https://localhost:8080/",
          "height": 337
        },
        "id": "WZkWuHawANlI",
        "outputId": "26cd574e-bfae-4510-d7f0-3f012cea205f"
      },
      "source": [
        "fig,ax=plot.subplots(figsize=(15,5))\n",
        "ax.bar(range(len(data)),list(data.values()), align='center')\n"
      ],
      "execution_count": 18,
      "outputs": [
        {
          "output_type": "execute_result",
          "data": {
            "text/plain": [
              "<BarContainer object of 7 artists>"
            ]
          },
          "metadata": {},
          "execution_count": 18
        },
        {
          "output_type": "display_data",
          "data": {
            "image/png": "[encoded data removed]",
            "text/plain": [
              "<Figure size 1080x360 with 1 Axes>"
            ]
          },
          "metadata": {
            "needs_background": "light"
          }
        }
      ]
    },
    {
      "cell_type": "code",
      "metadata": {
        "colab": {
          "base_uri": "https://localhost:8080/"
        },
        "id": "B_wvMtqTEl3t",
        "outputId": "d4fc53b7-ea33-4191-c312-882de2e5bd88"
      },
      "source": [
        "# Binomial Distribution\n",
        "from scipy.stats import binom\n",
        "n=20\n",
        "p=0.4\n",
        "x=range(0,n)\n",
        "bin=binom.pmf(x,n,p)\n",
        "bin\n"
      ],
      "execution_count": 20,
      "outputs": [
        {
          "output_type": "execute_result",
          "data": {
            "text/plain": [
              "array([3.65615844e-05, 4.87487792e-04, 3.08742268e-03, 1.23496907e-02,\n",
              "       3.49907904e-02, 7.46470195e-02, 1.24411699e-01, 1.65882266e-01,\n",
              "       1.79705788e-01, 1.59738478e-01, 1.17141551e-01, 7.09948791e-02,\n",
              "       3.54974396e-02, 1.45630521e-02, 4.85435071e-03, 1.29449352e-03,\n",
              "       2.69686150e-04, 4.23037099e-05, 4.70041221e-06, 3.29853488e-07])"
            ]
          },
          "metadata": {},
          "execution_count": 20
        }
      ]
    }
  ]
}